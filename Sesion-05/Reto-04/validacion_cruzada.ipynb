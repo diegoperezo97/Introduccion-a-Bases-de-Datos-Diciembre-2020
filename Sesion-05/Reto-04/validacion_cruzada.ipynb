{
  "cells": [
    {
      "cell_type": "markdown",
      "metadata": {
        "id": "VdVV3wmQ75Sf"
      },
      "source": [
        "## Reto 4: Validación Cruzada\n",
        "\n",
        "### 1. Objetivos:\n",
        "    - Aplicar la técnica de validación cruzada para evaluar un modelo de Regresión Lineal Múltiple\n",
        "\n",
        "---\n",
        "    \n",
        "### 2. Desarrollo:"
      ]
    },
    {
      "cell_type": "markdown",
      "metadata": {
        "id": "N_VCjkAP75Si"
      },
      "source": [
        "Para este Reto vamos a utilizar el mismo dataset que en el Reto anterior. Elige las variables con las que obtuviste un mejor resultado. Utilizando esas variables realiza los siguientes procesos:\n",
        "\n",
        "1. Entrena un modelo de Regresión Lineal Múltiple utilizando validación cruzada de K-iteraciones.\n",
        "2. Obtén el promedio de tus scores y el nivel de incertidumbre.\n",
        "3. Compara tu resultado con el resultado obtenido en el Reto anterior.\n",
        "4. Comparte tus hallazgos con tus compañeros."
      ]
    },
    {
      "cell_type": "code",
      "execution_count": null,
      "metadata": {
        "id": "L3q5Q4qr75Sj"
      },
      "outputs": [],
      "source": []
    }
  ],
  "metadata": {
    "kernelspec": {
      "display_name": "Python (data_science)",
      "language": "python",
      "name": "data_science"
    },
    "language_info": {
      "codemirror_mode": {
        "name": "ipython",
        "version": 3
      },
      "file_extension": ".py",
      "mimetype": "text/x-python",
      "name": "python",
      "nbconvert_exporter": "python",
      "pygments_lexer": "ipython3",
      "version": "3.8.5"
    },
    "colab": {
      "provenance": []
    }
  },
  "nbformat": 4,
  "nbformat_minor": 0
}